{
 "cells": [
  {
   "cell_type": "code",
   "execution_count": 2,
   "id": "909c9ba8",
   "metadata": {},
   "outputs": [],
   "source": [
    "import re\n",
    "import json"
   ]
  },
  {
   "cell_type": "code",
   "execution_count": 3,
   "id": "19892bb6",
   "metadata": {},
   "outputs": [],
   "source": [
    "f = open('sws_songs.json')\n",
    "mcr_songs = json.load(f)\n",
    "\n",
    "f.close()"
   ]
  },
  {
   "cell_type": "code",
   "execution_count": 4,
   "id": "68e25ffa",
   "metadata": {},
   "outputs": [],
   "source": [
    "def clean_text(text):    \n",
    "    pattern = r'[^\\w]'\n",
    "    text = re.sub(pattern, ' ', text)\n",
    "    text = text.lower()\n",
    "    return text"
   ]
  },
  {
   "cell_type": "code",
   "execution_count": 5,
   "id": "beb25b6f",
   "metadata": {},
   "outputs": [],
   "source": [
    "for key in mcr_songs.keys():\n",
    "    for index in range(len(mcr_songs[key]['songs'])):\n",
    "        mcr_songs[key]['songs'][index]['lyrics'] = clean_text(mcr_songs[key]['songs'][index]['lyrics'])"
   ]
  },
  {
   "cell_type": "code",
   "execution_count": 6,
   "id": "2b9f4159",
   "metadata": {},
   "outputs": [],
   "source": [
    "with open('sws_songs_clean.json', 'w') as fp:\n",
    "    json.dump(mcr_songs, fp, indent=4)"
   ]
  },
  {
   "cell_type": "code",
   "execution_count": null,
   "id": "799e1635",
   "metadata": {},
   "outputs": [],
   "source": []
  }
 ],
 "metadata": {
  "kernelspec": {
   "display_name": "Python 3 (ipykernel)",
   "language": "python",
   "name": "python3"
  },
  "language_info": {
   "codemirror_mode": {
    "name": "ipython",
    "version": 3
   },
   "file_extension": ".py",
   "mimetype": "text/x-python",
   "name": "python",
   "nbconvert_exporter": "python",
   "pygments_lexer": "ipython3",
   "version": "3.8.10"
  }
 },
 "nbformat": 4,
 "nbformat_minor": 5
}
