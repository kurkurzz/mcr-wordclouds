{
 "cells": [
  {
   "cell_type": "code",
   "execution_count": null,
   "id": "c5805127",
   "metadata": {},
   "outputs": [],
   "source": [
    "import json\n",
    "\n",
    "import selenium\n",
    "from selenium import webdriver\n",
    "from selenium.webdriver.common.keys import Keys\n",
    "import time"
   ]
  },
  {
   "cell_type": "code",
   "execution_count": null,
   "id": "a837392b",
   "metadata": {},
   "outputs": [],
   "source": [
    "def create_driver():\n",
    "    op = webdriver.ChromeOptions()\n",
    "    user_agent = 'Mozilla/5.0 (X11; Linux x86_64) AppleWebKit/537.36 (KHTML, like Gecko) Chrome/60.0.3112.50 Safari/537.36'\n",
    "    op.add_argument(f'user-agent={user_agent}')\n",
    "\n",
    "    driver = webdriver.Chrome(executable_path='./chromedriver',options=op)\n",
    "    return driver"
   ]
  },
  {
   "cell_type": "code",
   "execution_count": null,
   "id": "0ccf46db",
   "metadata": {},
   "outputs": [],
   "source": [
    "def scrape_songs(url, output_file, sleep_time=0):\n",
    "    driver = create_driver()\n",
    "    \n",
    "    driver.get(url)\n",
    "    \n",
    "    songs = dict()\n",
    "    element = driver.find_element_by_id('listAlbum')\n",
    "\n",
    "    div_list = element.find_elements_by_xpath('div')\n",
    "\n",
    "    curr_album = None\n",
    "    for div in div_list:\n",
    "        try:\n",
    "            if div.get_attribute('id'):\n",
    "                album_name = div.find_element_by_xpath('b').text.replace('\"','')\n",
    "                songs.update({album_name: {\n",
    "                    'year': int(div.text[div.text.find(\"(\")+1:div.text.find(\")\")]),\n",
    "                    'songs': []\n",
    "                }})\n",
    "                curr_album = album_name\n",
    "            else:\n",
    "                song_elem = div.find_element_by_xpath('a')\n",
    "                song_dict = {\n",
    "                    'title': song_elem.text,\n",
    "                    'url': song_elem.get_attribute('href')\n",
    "                }\n",
    "                songs[album_name]['songs'].append(song_dict)\n",
    "        except Exception as e:\n",
    "            pass\n",
    "    \n",
    "    for album in songs.keys():\n",
    "        for song_index in range(len(songs[album]['songs'])):\n",
    "            \n",
    "            url = songs[album]['songs'][song_index]['url']\n",
    "\n",
    "            driver.get(url)\n",
    "\n",
    "            lyrics_xpath = '/html/body/div[2]/div/div[2]/div[5]'\n",
    "            element = driver.find_element_by_xpath(lyrics_xpath)\n",
    "            songs[album]['songs'][song_index]['lyrics'] = element.text\n",
    "            \n",
    "            time.sleep(sleep_time)\n",
    "            \n",
    "    with open(output_file, 'w') as fp:\n",
    "        json.dump(songs, fp, indent=4)\n",
    "        \n",
    "    return songs"
   ]
  },
  {
   "cell_type": "code",
   "execution_count": null,
   "id": "85ada749",
   "metadata": {},
   "outputs": [],
   "source": [
    "scrape_songs('https://www.azlyrics.com/m/mychemicalromance.html', output_file='mcr_sample_data.json')"
   ]
  }
 ],
 "metadata": {
  "kernelspec": {
   "display_name": "Python 3 (ipykernel)",
   "language": "python",
   "name": "python3"
  },
  "language_info": {
   "codemirror_mode": {
    "name": "ipython",
    "version": 3
   },
   "file_extension": ".py",
   "mimetype": "text/x-python",
   "name": "python",
   "nbconvert_exporter": "python",
   "pygments_lexer": "ipython3",
   "version": "3.8.10"
  }
 },
 "nbformat": 4,
 "nbformat_minor": 5
}
